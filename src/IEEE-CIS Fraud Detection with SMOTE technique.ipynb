{
 "cells": [
  {
   "cell_type": "code",
   "execution_count": 1,
   "metadata": {},
   "outputs": [],
   "source": [
    "import pandas as pd\n",
    "import numpy as np\n",
    "import matplotlib.pyplot as plt\n",
    "%matplotlib inline"
   ]
  },
  {
   "cell_type": "code",
   "execution_count": 2,
   "metadata": {},
   "outputs": [],
   "source": [
    "from warnings import simplefilter\n",
    "# ignore all future warnings\n",
    "simplefilter(action='ignore', category=FutureWarning)"
   ]
  },
  {
   "cell_type": "code",
   "execution_count": 3,
   "metadata": {},
   "outputs": [],
   "source": [
    "train_trans = pd.read_csv(\"C:/MSBAPM/Spring 2020/Data Science with Python/Project/ieee-fraud-detection/train_transaction.csv\")\n",
    "train_identity = pd.read_csv(\"C:/MSBAPM/Spring 2020/Data Science with Python/Project/ieee-fraud-detection/train_identity.csv\")\n"
   ]
  },
  {
   "cell_type": "code",
   "execution_count": 4,
   "metadata": {},
   "outputs": [
    {
     "name": "stdout",
     "output_type": "stream",
     "text": [
      "TransactionID 0.0\n",
      "id_01 0.0\n",
      "id_02 0.02\n",
      "id_03 0.54\n",
      "id_04 0.54\n",
      "id_05 0.05\n",
      "id_06 0.05\n",
      "id_07 0.96\n",
      "id_08 0.96\n",
      "id_09 0.48\n",
      "id_10 0.48\n",
      "id_11 0.02\n",
      "id_12 0.0\n",
      "id_13 0.12\n",
      "id_14 0.45\n",
      "id_15 0.02\n",
      "id_16 0.1\n",
      "id_17 0.03\n",
      "id_18 0.69\n",
      "id_19 0.03\n",
      "id_20 0.03\n",
      "id_21 0.96\n",
      "id_22 0.96\n",
      "id_23 0.96\n",
      "id_24 0.97\n",
      "id_25 0.96\n",
      "id_26 0.96\n",
      "id_27 0.96\n",
      "id_28 0.02\n",
      "id_29 0.02\n",
      "id_30 0.46\n",
      "id_31 0.03\n",
      "id_32 0.46\n",
      "id_33 0.49\n",
      "id_34 0.46\n",
      "id_35 0.02\n",
      "id_36 0.02\n",
      "id_37 0.02\n",
      "id_38 0.02\n",
      "DeviceType 0.02\n",
      "DeviceInfo 0.18\n"
     ]
    }
   ],
   "source": [
    "# prints the percentage of null observations for every column in train_identity\n",
    "for i in train_identity.columns:\n",
    "    print(i, np.round(train_identity[i].isnull().sum()/train_identity.shape[0],2))"
   ]
  },
  {
   "cell_type": "code",
   "execution_count": 5,
   "metadata": {},
   "outputs": [
    {
     "name": "stdout",
     "output_type": "stream",
     "text": [
      "TransactionID 0.0\n",
      "isFraud 0.0\n",
      "TransactionDT 0.0\n",
      "TransactionAmt 0.0\n",
      "ProductCD 0.0\n",
      "card1 0.0\n",
      "card2 0.02\n",
      "card3 0.0\n",
      "card4 0.0\n",
      "card5 0.01\n",
      "card6 0.0\n",
      "addr1 0.11\n",
      "addr2 0.11\n",
      "dist1 0.6\n",
      "dist2 0.94\n",
      "P_emaildomain 0.16\n",
      "R_emaildomain 0.77\n",
      "C1 0.0\n",
      "C2 0.0\n",
      "C3 0.0\n",
      "C4 0.0\n",
      "C5 0.0\n",
      "C6 0.0\n",
      "C7 0.0\n",
      "C8 0.0\n",
      "C9 0.0\n",
      "C10 0.0\n",
      "C11 0.0\n",
      "C12 0.0\n",
      "C13 0.0\n",
      "C14 0.0\n",
      "D1 0.0\n",
      "D2 0.48\n",
      "D3 0.45\n",
      "D4 0.29\n",
      "D5 0.52\n",
      "D6 0.88\n",
      "D7 0.93\n",
      "D8 0.87\n",
      "D9 0.87\n",
      "D10 0.13\n",
      "D11 0.47\n",
      "D12 0.89\n",
      "D13 0.9\n",
      "D14 0.89\n",
      "D15 0.15\n",
      "M1 0.46\n",
      "M2 0.46\n",
      "M3 0.46\n",
      "M4 0.48\n",
      "M5 0.59\n",
      "M6 0.29\n",
      "M7 0.59\n",
      "M8 0.59\n",
      "M9 0.59\n",
      "V1 0.47\n",
      "V2 0.47\n",
      "V3 0.47\n",
      "V4 0.47\n",
      "V5 0.47\n",
      "V6 0.47\n",
      "V7 0.47\n",
      "V8 0.47\n",
      "V9 0.47\n",
      "V10 0.47\n",
      "V11 0.47\n",
      "V12 0.13\n",
      "V13 0.13\n",
      "V14 0.13\n",
      "V15 0.13\n",
      "V16 0.13\n",
      "V17 0.13\n",
      "V18 0.13\n",
      "V19 0.13\n",
      "V20 0.13\n",
      "V21 0.13\n",
      "V22 0.13\n",
      "V23 0.13\n",
      "V24 0.13\n",
      "V25 0.13\n",
      "V26 0.13\n",
      "V27 0.13\n",
      "V28 0.13\n",
      "V29 0.13\n",
      "V30 0.13\n",
      "V31 0.13\n",
      "V32 0.13\n",
      "V33 0.13\n",
      "V34 0.13\n",
      "V35 0.29\n",
      "V36 0.29\n",
      "V37 0.29\n",
      "V38 0.29\n",
      "V39 0.29\n",
      "V40 0.29\n",
      "V41 0.29\n",
      "V42 0.29\n",
      "V43 0.29\n",
      "V44 0.29\n",
      "V45 0.29\n",
      "V46 0.29\n",
      "V47 0.29\n",
      "V48 0.29\n",
      "V49 0.29\n",
      "V50 0.29\n",
      "V51 0.29\n",
      "V52 0.29\n",
      "V53 0.13\n",
      "V54 0.13\n",
      "V55 0.13\n",
      "V56 0.13\n",
      "V57 0.13\n",
      "V58 0.13\n",
      "V59 0.13\n",
      "V60 0.13\n",
      "V61 0.13\n",
      "V62 0.13\n",
      "V63 0.13\n",
      "V64 0.13\n",
      "V65 0.13\n",
      "V66 0.13\n",
      "V67 0.13\n",
      "V68 0.13\n",
      "V69 0.13\n",
      "V70 0.13\n",
      "V71 0.13\n",
      "V72 0.13\n",
      "V73 0.13\n",
      "V74 0.13\n",
      "V75 0.15\n",
      "V76 0.15\n",
      "V77 0.15\n",
      "V78 0.15\n",
      "V79 0.15\n",
      "V80 0.15\n",
      "V81 0.15\n",
      "V82 0.15\n",
      "V83 0.15\n",
      "V84 0.15\n",
      "V85 0.15\n",
      "V86 0.15\n",
      "V87 0.15\n",
      "V88 0.15\n",
      "V89 0.15\n",
      "V90 0.15\n",
      "V91 0.15\n",
      "V92 0.15\n",
      "V93 0.15\n",
      "V94 0.15\n",
      "V95 0.0\n",
      "V96 0.0\n",
      "V97 0.0\n",
      "V98 0.0\n",
      "V99 0.0\n",
      "V100 0.0\n",
      "V101 0.0\n",
      "V102 0.0\n",
      "V103 0.0\n",
      "V104 0.0\n",
      "V105 0.0\n",
      "V106 0.0\n",
      "V107 0.0\n",
      "V108 0.0\n",
      "V109 0.0\n",
      "V110 0.0\n",
      "V111 0.0\n",
      "V112 0.0\n",
      "V113 0.0\n",
      "V114 0.0\n",
      "V115 0.0\n",
      "V116 0.0\n",
      "V117 0.0\n",
      "V118 0.0\n",
      "V119 0.0\n",
      "V120 0.0\n",
      "V121 0.0\n",
      "V122 0.0\n",
      "V123 0.0\n",
      "V124 0.0\n",
      "V125 0.0\n",
      "V126 0.0\n",
      "V127 0.0\n",
      "V128 0.0\n",
      "V129 0.0\n",
      "V130 0.0\n",
      "V131 0.0\n",
      "V132 0.0\n",
      "V133 0.0\n",
      "V134 0.0\n",
      "V135 0.0\n",
      "V136 0.0\n",
      "V137 0.0\n",
      "V138 0.86\n",
      "V139 0.86\n",
      "V140 0.86\n",
      "V141 0.86\n",
      "V142 0.86\n",
      "V143 0.86\n",
      "V144 0.86\n",
      "V145 0.86\n",
      "V146 0.86\n",
      "V147 0.86\n",
      "V148 0.86\n",
      "V149 0.86\n",
      "V150 0.86\n",
      "V151 0.86\n",
      "V152 0.86\n",
      "V153 0.86\n",
      "V154 0.86\n",
      "V155 0.86\n",
      "V156 0.86\n",
      "V157 0.86\n",
      "V158 0.86\n",
      "V159 0.86\n",
      "V160 0.86\n",
      "V161 0.86\n",
      "V162 0.86\n",
      "V163 0.86\n",
      "V164 0.86\n",
      "V165 0.86\n",
      "V166 0.86\n",
      "V167 0.76\n",
      "V168 0.76\n",
      "V169 0.76\n",
      "V170 0.76\n",
      "V171 0.76\n",
      "V172 0.76\n",
      "V173 0.76\n",
      "V174 0.76\n",
      "V175 0.76\n",
      "V176 0.76\n",
      "V177 0.76\n",
      "V178 0.76\n",
      "V179 0.76\n",
      "V180 0.76\n",
      "V181 0.76\n",
      "V182 0.76\n",
      "V183 0.76\n",
      "V184 0.76\n",
      "V185 0.76\n",
      "V186 0.76\n",
      "V187 0.76\n",
      "V188 0.76\n",
      "V189 0.76\n",
      "V190 0.76\n",
      "V191 0.76\n",
      "V192 0.76\n",
      "V193 0.76\n",
      "V194 0.76\n",
      "V195 0.76\n",
      "V196 0.76\n",
      "V197 0.76\n",
      "V198 0.76\n",
      "V199 0.76\n",
      "V200 0.76\n",
      "V201 0.76\n",
      "V202 0.76\n",
      "V203 0.76\n",
      "V204 0.76\n",
      "V205 0.76\n",
      "V206 0.76\n",
      "V207 0.76\n",
      "V208 0.76\n",
      "V209 0.76\n",
      "V210 0.76\n",
      "V211 0.76\n",
      "V212 0.76\n",
      "V213 0.76\n",
      "V214 0.76\n",
      "V215 0.76\n",
      "V216 0.76\n",
      "V217 0.78\n",
      "V218 0.78\n",
      "V219 0.78\n",
      "V220 0.76\n",
      "V221 0.76\n",
      "V222 0.76\n",
      "V223 0.78\n",
      "V224 0.78\n",
      "V225 0.78\n",
      "V226 0.78\n",
      "V227 0.76\n",
      "V228 0.78\n",
      "V229 0.78\n",
      "V230 0.78\n",
      "V231 0.78\n",
      "V232 0.78\n",
      "V233 0.78\n",
      "V234 0.76\n",
      "V235 0.78\n",
      "V236 0.78\n",
      "V237 0.78\n",
      "V238 0.76\n",
      "V239 0.76\n",
      "V240 0.78\n",
      "V241 0.78\n",
      "V242 0.78\n",
      "V243 0.78\n",
      "V244 0.78\n",
      "V245 0.76\n",
      "V246 0.78\n",
      "V247 0.78\n",
      "V248 0.78\n",
      "V249 0.78\n",
      "V250 0.76\n",
      "V251 0.76\n",
      "V252 0.78\n",
      "V253 0.78\n",
      "V254 0.78\n",
      "V255 0.76\n",
      "V256 0.76\n",
      "V257 0.78\n",
      "V258 0.78\n",
      "V259 0.76\n",
      "V260 0.78\n",
      "V261 0.78\n",
      "V262 0.78\n",
      "V263 0.78\n",
      "V264 0.78\n",
      "V265 0.78\n",
      "V266 0.78\n",
      "V267 0.78\n",
      "V268 0.78\n",
      "V269 0.78\n",
      "V270 0.76\n",
      "V271 0.76\n",
      "V272 0.76\n",
      "V273 0.78\n",
      "V274 0.78\n",
      "V275 0.78\n",
      "V276 0.78\n",
      "V277 0.78\n",
      "V278 0.78\n",
      "V279 0.0\n",
      "V280 0.0\n",
      "V281 0.0\n",
      "V282 0.0\n",
      "V283 0.0\n",
      "V284 0.0\n",
      "V285 0.0\n",
      "V286 0.0\n",
      "V287 0.0\n",
      "V288 0.0\n",
      "V289 0.0\n",
      "V290 0.0\n",
      "V291 0.0\n",
      "V292 0.0\n",
      "V293 0.0\n",
      "V294 0.0\n",
      "V295 0.0\n",
      "V296 0.0\n",
      "V297 0.0\n",
      "V298 0.0\n",
      "V299 0.0\n",
      "V300 0.0\n",
      "V301 0.0\n",
      "V302 0.0\n",
      "V303 0.0\n",
      "V304 0.0\n",
      "V305 0.0\n",
      "V306 0.0\n",
      "V307 0.0\n",
      "V308 0.0\n",
      "V309 0.0\n",
      "V310 0.0\n",
      "V311 0.0\n",
      "V312 0.0\n",
      "V313 0.0\n",
      "V314 0.0\n",
      "V315 0.0\n",
      "V316 0.0\n",
      "V317 0.0\n",
      "V318 0.0\n",
      "V319 0.0\n",
      "V320 0.0\n",
      "V321 0.0\n",
      "V322 0.86\n",
      "V323 0.86\n",
      "V324 0.86\n",
      "V325 0.86\n",
      "V326 0.86\n",
      "V327 0.86\n",
      "V328 0.86\n",
      "V329 0.86\n",
      "V330 0.86\n",
      "V331 0.86\n",
      "V332 0.86\n",
      "V333 0.86\n",
      "V334 0.86\n",
      "V335 0.86\n",
      "V336 0.86\n",
      "V337 0.86\n",
      "V338 0.86\n",
      "V339 0.86\n"
     ]
    }
   ],
   "source": [
    "# prints the percentage of null observations for every column in train_trans\n",
    "for i in train_trans.columns:\n",
    "    print(i, np.round(train_trans[i].isnull().sum()/train_trans.shape[0],2))"
   ]
  },
  {
   "cell_type": "code",
   "execution_count": 6,
   "metadata": {},
   "outputs": [
    {
     "data": {
      "text/plain": [
       "['id_07',\n",
       " 'id_08',\n",
       " 'id_21',\n",
       " 'id_22',\n",
       " 'id_23',\n",
       " 'id_24',\n",
       " 'id_25',\n",
       " 'id_26',\n",
       " 'id_27']"
      ]
     },
     "execution_count": 6,
     "metadata": {},
     "output_type": "execute_result"
    }
   ],
   "source": [
    "# creates a list of columns for which 90% of values are missing in train_identity\n",
    "n= []\n",
    "for i in train_identity.columns:\n",
    "    m = np.round(train_identity[i].isnull().sum()/train_identity.shape[0],2)\n",
    "    if m > 0.90 :\n",
    "        n.append(i)\n",
    "n"
   ]
  },
  {
   "cell_type": "code",
   "execution_count": 7,
   "metadata": {},
   "outputs": [
    {
     "data": {
      "text/plain": [
       "['dist2', 'D7']"
      ]
     },
     "execution_count": 7,
     "metadata": {},
     "output_type": "execute_result"
    }
   ],
   "source": [
    "# creates a list of columns for which 90% of values are missing in train_trans\n",
    "n1= []\n",
    "for i in train_trans.columns:\n",
    "    m1 = np.round(train_trans[i].isnull().sum()/train_trans.shape[0],2)\n",
    "    if m1 > 0.90 :\n",
    "        n1.append(i)\n",
    "n1"
   ]
  },
  {
   "cell_type": "code",
   "execution_count": 8,
   "metadata": {},
   "outputs": [],
   "source": [
    "# Drops columns where 90% observations are missing\n",
    "train_identity = train_identity.drop(n,axis=1)\n",
    "train_trans = train_trans.drop(n1,axis=1)"
   ]
  },
  {
   "cell_type": "code",
   "execution_count": 9,
   "metadata": {},
   "outputs": [
    {
     "data": {
      "text/plain": [
       "(144233, 32)"
      ]
     },
     "execution_count": 9,
     "metadata": {},
     "output_type": "execute_result"
    }
   ],
   "source": [
    "train_identity.shape"
   ]
  },
  {
   "cell_type": "code",
   "execution_count": 10,
   "metadata": {},
   "outputs": [
    {
     "data": {
      "text/plain": [
       "(590540, 392)"
      ]
     },
     "execution_count": 10,
     "metadata": {},
     "output_type": "execute_result"
    }
   ],
   "source": [
    "train_trans.shape"
   ]
  },
  {
   "cell_type": "code",
   "execution_count": 11,
   "metadata": {},
   "outputs": [],
   "source": [
    "# Replace missing values by mean for numerical variables and mode for categorical variables in train_identity\n",
    "for i in train_identity.columns:\n",
    "    if train_identity[i].dtypes == 'int64' or train_identity[i].dtypes == 'float64':\n",
    "        train_identity[i] = train_identity[i].fillna(train_identity[i].mean())\n",
    "    if train_identity[i].dtype == 'object':\n",
    "        train_identity[i] = train_identity[i].fillna(train_identity[i].mode()[0])"
   ]
  },
  {
   "cell_type": "code",
   "execution_count": 12,
   "metadata": {},
   "outputs": [],
   "source": [
    "# Replace missing values by mean for numerical variables and mode for categorical variables in train_trans\n",
    "for i in train_trans.columns:\n",
    "    if train_trans[i].dtypes == 'int64' or train_trans[i].dtypes == 'float64':\n",
    "        train_trans[i] = train_trans[i].fillna(train_trans[i].mean())\n",
    "    if train_trans[i].dtype == 'object':\n",
    "        train_trans[i] = train_trans[i].fillna(train_trans[i].mode()[0])"
   ]
  },
  {
   "cell_type": "code",
   "execution_count": 13,
   "metadata": {},
   "outputs": [
    {
     "data": {
      "text/plain": [
       "['id_12',\n",
       " 'id_15',\n",
       " 'id_16',\n",
       " 'id_28',\n",
       " 'id_29',\n",
       " 'id_30',\n",
       " 'id_31',\n",
       " 'id_33',\n",
       " 'id_34',\n",
       " 'id_35',\n",
       " 'id_36',\n",
       " 'id_37',\n",
       " 'id_38',\n",
       " 'DeviceType',\n",
       " 'DeviceInfo']"
      ]
     },
     "execution_count": 13,
     "metadata": {},
     "output_type": "execute_result"
    }
   ],
   "source": [
    "# Creating a series of categorical features in train_identity\n",
    "m =[]\n",
    "for i in train_identity.columns:\n",
    "    if train_identity[i].dtype == 'object':\n",
    "        m.append(i)\n",
    "m"
   ]
  },
  {
   "cell_type": "code",
   "execution_count": 14,
   "metadata": {},
   "outputs": [
    {
     "data": {
      "text/plain": [
       "['ProductCD',\n",
       " 'card4',\n",
       " 'card6',\n",
       " 'P_emaildomain',\n",
       " 'R_emaildomain',\n",
       " 'M1',\n",
       " 'M2',\n",
       " 'M3',\n",
       " 'M4',\n",
       " 'M5',\n",
       " 'M6',\n",
       " 'M7',\n",
       " 'M8',\n",
       " 'M9']"
      ]
     },
     "execution_count": 14,
     "metadata": {},
     "output_type": "execute_result"
    }
   ],
   "source": [
    "# Creating a series of categorical features in train_trans\n",
    "m1 =[]\n",
    "for i in train_trans.columns:\n",
    "    if train_trans[i].dtype == 'object':\n",
    "        m1.append(i)\n",
    "m1"
   ]
  },
  {
   "cell_type": "code",
   "execution_count": 15,
   "metadata": {},
   "outputs": [],
   "source": [
    "## Making sure that all missing values were imputed\n",
    "for i in m:\n",
    "    if train_identity[i].isnull().sum()>0:\n",
    "        print(i)\n",
    "for i in m1:\n",
    "    if train_trans[i].isnull().sum()>0:\n",
    "        print(i)\n"
   ]
  },
  {
   "cell_type": "code",
   "execution_count": 16,
   "metadata": {},
   "outputs": [
    {
     "data": {
      "text/html": [
       "<div>\n",
       "<style scoped>\n",
       "    .dataframe tbody tr th:only-of-type {\n",
       "        vertical-align: middle;\n",
       "    }\n",
       "\n",
       "    .dataframe tbody tr th {\n",
       "        vertical-align: top;\n",
       "    }\n",
       "\n",
       "    .dataframe thead th {\n",
       "        text-align: right;\n",
       "    }\n",
       "</style>\n",
       "<table border=\"1\" class=\"dataframe\">\n",
       "  <thead>\n",
       "    <tr style=\"text-align: right;\">\n",
       "      <th></th>\n",
       "      <th>id_12</th>\n",
       "      <th>id_15</th>\n",
       "      <th>id_16</th>\n",
       "      <th>id_28</th>\n",
       "      <th>id_29</th>\n",
       "      <th>id_30</th>\n",
       "      <th>id_31</th>\n",
       "      <th>id_33</th>\n",
       "      <th>id_34</th>\n",
       "      <th>id_35</th>\n",
       "      <th>id_36</th>\n",
       "      <th>id_37</th>\n",
       "      <th>id_38</th>\n",
       "      <th>DeviceType</th>\n",
       "      <th>DeviceInfo</th>\n",
       "    </tr>\n",
       "  </thead>\n",
       "  <tbody>\n",
       "    <tr>\n",
       "      <td>count</td>\n",
       "      <td>144233</td>\n",
       "      <td>144233</td>\n",
       "      <td>144233</td>\n",
       "      <td>144233</td>\n",
       "      <td>144233</td>\n",
       "      <td>144233</td>\n",
       "      <td>144233</td>\n",
       "      <td>144233</td>\n",
       "      <td>144233</td>\n",
       "      <td>144233</td>\n",
       "      <td>144233</td>\n",
       "      <td>144233</td>\n",
       "      <td>144233</td>\n",
       "      <td>144233</td>\n",
       "      <td>144233</td>\n",
       "    </tr>\n",
       "    <tr>\n",
       "      <td>unique</td>\n",
       "      <td>2</td>\n",
       "      <td>3</td>\n",
       "      <td>2</td>\n",
       "      <td>2</td>\n",
       "      <td>2</td>\n",
       "      <td>75</td>\n",
       "      <td>130</td>\n",
       "      <td>260</td>\n",
       "      <td>4</td>\n",
       "      <td>2</td>\n",
       "      <td>2</td>\n",
       "      <td>2</td>\n",
       "      <td>2</td>\n",
       "      <td>2</td>\n",
       "      <td>1786</td>\n",
       "    </tr>\n",
       "    <tr>\n",
       "      <td>top</td>\n",
       "      <td>NotFound</td>\n",
       "      <td>Found</td>\n",
       "      <td>Found</td>\n",
       "      <td>Found</td>\n",
       "      <td>Found</td>\n",
       "      <td>Windows 10</td>\n",
       "      <td>chrome 63.0</td>\n",
       "      <td>1920x1080</td>\n",
       "      <td>match_status:2</td>\n",
       "      <td>T</td>\n",
       "      <td>F</td>\n",
       "      <td>T</td>\n",
       "      <td>F</td>\n",
       "      <td>desktop</td>\n",
       "      <td>Windows</td>\n",
       "    </tr>\n",
       "    <tr>\n",
       "      <td>freq</td>\n",
       "      <td>123025</td>\n",
       "      <td>70976</td>\n",
       "      <td>81217</td>\n",
       "      <td>79487</td>\n",
       "      <td>78181</td>\n",
       "      <td>87823</td>\n",
       "      <td>25951</td>\n",
       "      <td>87818</td>\n",
       "      <td>126439</td>\n",
       "      <td>81062</td>\n",
       "      <td>137314</td>\n",
       "      <td>113700</td>\n",
       "      <td>77170</td>\n",
       "      <td>88588</td>\n",
       "      <td>73289</td>\n",
       "    </tr>\n",
       "  </tbody>\n",
       "</table>\n",
       "</div>"
      ],
      "text/plain": [
       "           id_12   id_15   id_16   id_28   id_29       id_30        id_31  \\\n",
       "count     144233  144233  144233  144233  144233      144233       144233   \n",
       "unique         2       3       2       2       2          75          130   \n",
       "top     NotFound   Found   Found   Found   Found  Windows 10  chrome 63.0   \n",
       "freq      123025   70976   81217   79487   78181       87823        25951   \n",
       "\n",
       "            id_33           id_34   id_35   id_36   id_37   id_38 DeviceType  \\\n",
       "count      144233          144233  144233  144233  144233  144233     144233   \n",
       "unique        260               4       2       2       2       2          2   \n",
       "top     1920x1080  match_status:2       T       F       T       F    desktop   \n",
       "freq        87818          126439   81062  137314  113700   77170      88588   \n",
       "\n",
       "       DeviceInfo  \n",
       "count      144233  \n",
       "unique       1786  \n",
       "top       Windows  \n",
       "freq        73289  "
      ]
     },
     "execution_count": 16,
     "metadata": {},
     "output_type": "execute_result"
    }
   ],
   "source": [
    "train_identity[m].describe()"
   ]
  },
  {
   "cell_type": "code",
   "execution_count": 17,
   "metadata": {},
   "outputs": [
    {
     "data": {
      "text/html": [
       "<div>\n",
       "<style scoped>\n",
       "    .dataframe tbody tr th:only-of-type {\n",
       "        vertical-align: middle;\n",
       "    }\n",
       "\n",
       "    .dataframe tbody tr th {\n",
       "        vertical-align: top;\n",
       "    }\n",
       "\n",
       "    .dataframe thead th {\n",
       "        text-align: right;\n",
       "    }\n",
       "</style>\n",
       "<table border=\"1\" class=\"dataframe\">\n",
       "  <thead>\n",
       "    <tr style=\"text-align: right;\">\n",
       "      <th></th>\n",
       "      <th>ProductCD</th>\n",
       "      <th>card4</th>\n",
       "      <th>card6</th>\n",
       "      <th>P_emaildomain</th>\n",
       "      <th>R_emaildomain</th>\n",
       "      <th>M1</th>\n",
       "      <th>M2</th>\n",
       "      <th>M3</th>\n",
       "      <th>M4</th>\n",
       "      <th>M5</th>\n",
       "      <th>M6</th>\n",
       "      <th>M7</th>\n",
       "      <th>M8</th>\n",
       "      <th>M9</th>\n",
       "    </tr>\n",
       "  </thead>\n",
       "  <tbody>\n",
       "    <tr>\n",
       "      <td>count</td>\n",
       "      <td>590540</td>\n",
       "      <td>590540</td>\n",
       "      <td>590540</td>\n",
       "      <td>590540</td>\n",
       "      <td>590540</td>\n",
       "      <td>590540</td>\n",
       "      <td>590540</td>\n",
       "      <td>590540</td>\n",
       "      <td>590540</td>\n",
       "      <td>590540</td>\n",
       "      <td>590540</td>\n",
       "      <td>590540</td>\n",
       "      <td>590540</td>\n",
       "      <td>590540</td>\n",
       "    </tr>\n",
       "    <tr>\n",
       "      <td>unique</td>\n",
       "      <td>5</td>\n",
       "      <td>4</td>\n",
       "      <td>4</td>\n",
       "      <td>59</td>\n",
       "      <td>60</td>\n",
       "      <td>2</td>\n",
       "      <td>2</td>\n",
       "      <td>2</td>\n",
       "      <td>3</td>\n",
       "      <td>2</td>\n",
       "      <td>2</td>\n",
       "      <td>2</td>\n",
       "      <td>2</td>\n",
       "      <td>2</td>\n",
       "    </tr>\n",
       "    <tr>\n",
       "      <td>top</td>\n",
       "      <td>W</td>\n",
       "      <td>visa</td>\n",
       "      <td>debit</td>\n",
       "      <td>gmail.com</td>\n",
       "      <td>gmail.com</td>\n",
       "      <td>T</td>\n",
       "      <td>T</td>\n",
       "      <td>T</td>\n",
       "      <td>M0</td>\n",
       "      <td>F</td>\n",
       "      <td>F</td>\n",
       "      <td>F</td>\n",
       "      <td>F</td>\n",
       "      <td>T</td>\n",
       "    </tr>\n",
       "    <tr>\n",
       "      <td>freq</td>\n",
       "      <td>439670</td>\n",
       "      <td>386344</td>\n",
       "      <td>441509</td>\n",
       "      <td>322811</td>\n",
       "      <td>510396</td>\n",
       "      <td>590515</td>\n",
       "      <td>556568</td>\n",
       "      <td>522831</td>\n",
       "      <td>477849</td>\n",
       "      <td>482973</td>\n",
       "      <td>397216</td>\n",
       "      <td>557639</td>\n",
       "      <td>501503</td>\n",
       "      <td>551908</td>\n",
       "    </tr>\n",
       "  </tbody>\n",
       "</table>\n",
       "</div>"
      ],
      "text/plain": [
       "       ProductCD   card4   card6 P_emaildomain R_emaildomain      M1      M2  \\\n",
       "count     590540  590540  590540        590540        590540  590540  590540   \n",
       "unique         5       4       4            59            60       2       2   \n",
       "top            W    visa   debit     gmail.com     gmail.com       T       T   \n",
       "freq      439670  386344  441509        322811        510396  590515  556568   \n",
       "\n",
       "            M3      M4      M5      M6      M7      M8      M9  \n",
       "count   590540  590540  590540  590540  590540  590540  590540  \n",
       "unique       2       3       2       2       2       2       2  \n",
       "top          T      M0       F       F       F       F       T  \n",
       "freq    522831  477849  482973  397216  557639  501503  551908  "
      ]
     },
     "execution_count": 17,
     "metadata": {},
     "output_type": "execute_result"
    }
   ],
   "source": [
    "train_trans[m1].describe()"
   ]
  },
  {
   "cell_type": "code",
   "execution_count": 18,
   "metadata": {},
   "outputs": [],
   "source": [
    "# frequency encoding\n",
    "def freq_enc(m):\n",
    "    for i in m:\n",
    "        mapitem = train_identity[i].value_counts().to_dict()\n",
    "        train_identity[i]=train_identity[i].map(mapitem)\n",
    "def freq_enc1(m1):\n",
    "    for i in m1:\n",
    "        mapitem = train_trans[i].value_counts().to_dict()\n",
    "        train_trans[i]=train_trans[i].map(mapitem)\n"
   ]
  },
  {
   "cell_type": "code",
   "execution_count": 19,
   "metadata": {},
   "outputs": [],
   "source": [
    "# frequency encoding categorical features with more categories\n",
    "m_subset=['id_30','id_31','id_33','DeviceInfo']\n",
    "m1_subset=['P_emaildomain','R_emaildomain']    \n",
    "freq_enc(m_subset)\n",
    "freq_enc1(m1_subset)"
   ]
  },
  {
   "cell_type": "code",
   "execution_count": 20,
   "metadata": {},
   "outputs": [],
   "source": [
    "# Creating a series of categorical features in train_identity (except those frequency encoded)\n",
    "m =[]\n",
    "for i in train_identity.columns:\n",
    "    if train_identity[i].dtype == 'object':\n",
    "        m.append(i)\n",
    "# Creating a series of categorical features in train_trans (except those frequency encoded)\n",
    "m1 =[]\n",
    "for i in train_trans.columns:\n",
    "    if train_trans[i].dtype == 'object':\n",
    "        m1.append(i)"
   ]
  },
  {
   "cell_type": "code",
   "execution_count": 21,
   "metadata": {},
   "outputs": [],
   "source": [
    "#Creating dummy Variables for identity\n",
    "train_identity = pd.get_dummies(train_identity,columns=m,drop_first=True)\n"
   ]
  },
  {
   "cell_type": "code",
   "execution_count": 22,
   "metadata": {},
   "outputs": [],
   "source": [
    "#Creating dummy Variables for trans\n",
    "train_trans = pd.get_dummies(train_trans,columns=m1,drop_first=True)\n"
   ]
  },
  {
   "cell_type": "code",
   "execution_count": 23,
   "metadata": {},
   "outputs": [
    {
     "data": {
      "text/plain": [
       "(144233, 35)"
      ]
     },
     "execution_count": 23,
     "metadata": {},
     "output_type": "execute_result"
    }
   ],
   "source": [
    "train_identity.shape"
   ]
  },
  {
   "cell_type": "code",
   "execution_count": 24,
   "metadata": {},
   "outputs": [
    {
     "data": {
      "text/plain": [
       "(590540, 400)"
      ]
     },
     "execution_count": 24,
     "metadata": {},
     "output_type": "execute_result"
    }
   ],
   "source": [
    "train_trans.shape"
   ]
  },
  {
   "cell_type": "code",
   "execution_count": 25,
   "metadata": {},
   "outputs": [],
   "source": [
    "#First creating day feature\n",
    "train_trans['day'] = (train_trans['TransactionDT']//(3600*24)-1)%7\n",
    "\n",
    "#Then creating hour feature\n",
    "train_trans['hour'] = (train_trans['TransactionDT']//(3600))%24\n"
   ]
  },
  {
   "cell_type": "code",
   "execution_count": 26,
   "metadata": {},
   "outputs": [],
   "source": [
    "#Feature transformation - transform transaction Amount to log scale\n",
    "train_trans['logTransactionAmt']=np.log(train_trans['TransactionAmt'])\n"
   ]
  },
  {
   "cell_type": "code",
   "execution_count": 27,
   "metadata": {},
   "outputs": [],
   "source": [
    "#Merge transactiona nd identity table\n",
    "train = pd.merge(train_trans,train_identity,on='TransactionID',how = 'inner',sort = False)\n"
   ]
  },
  {
   "cell_type": "code",
   "execution_count": 28,
   "metadata": {},
   "outputs": [
    {
     "data": {
      "text/plain": [
       "(144233, 437)"
      ]
     },
     "execution_count": 28,
     "metadata": {},
     "output_type": "execute_result"
    }
   ],
   "source": [
    "train.shape"
   ]
  },
  {
   "cell_type": "code",
   "execution_count": 29,
   "metadata": {},
   "outputs": [
    {
     "data": {
      "text/html": [
       "<div>\n",
       "<style scoped>\n",
       "    .dataframe tbody tr th:only-of-type {\n",
       "        vertical-align: middle;\n",
       "    }\n",
       "\n",
       "    .dataframe tbody tr th {\n",
       "        vertical-align: top;\n",
       "    }\n",
       "\n",
       "    .dataframe thead th {\n",
       "        text-align: right;\n",
       "    }\n",
       "</style>\n",
       "<table border=\"1\" class=\"dataframe\">\n",
       "  <thead>\n",
       "    <tr style=\"text-align: right;\">\n",
       "      <th></th>\n",
       "      <th>TransactionID</th>\n",
       "      <th>isFraud</th>\n",
       "      <th>TransactionDT</th>\n",
       "      <th>TransactionAmt</th>\n",
       "      <th>card1</th>\n",
       "      <th>card2</th>\n",
       "      <th>card3</th>\n",
       "      <th>card5</th>\n",
       "      <th>addr1</th>\n",
       "      <th>addr2</th>\n",
       "      <th>...</th>\n",
       "      <th>id_28_New</th>\n",
       "      <th>id_29_NotFound</th>\n",
       "      <th>id_34_match_status:0</th>\n",
       "      <th>id_34_match_status:1</th>\n",
       "      <th>id_34_match_status:2</th>\n",
       "      <th>id_35_T</th>\n",
       "      <th>id_36_T</th>\n",
       "      <th>id_37_T</th>\n",
       "      <th>id_38_T</th>\n",
       "      <th>DeviceType_mobile</th>\n",
       "    </tr>\n",
       "  </thead>\n",
       "  <tbody>\n",
       "    <tr>\n",
       "      <td>0</td>\n",
       "      <td>2987004</td>\n",
       "      <td>0</td>\n",
       "      <td>86506</td>\n",
       "      <td>50.000</td>\n",
       "      <td>4497</td>\n",
       "      <td>514.0</td>\n",
       "      <td>150.0</td>\n",
       "      <td>102.0</td>\n",
       "      <td>420.000000</td>\n",
       "      <td>87.00000</td>\n",
       "      <td>...</td>\n",
       "      <td>1</td>\n",
       "      <td>1</td>\n",
       "      <td>0</td>\n",
       "      <td>0</td>\n",
       "      <td>1</td>\n",
       "      <td>1</td>\n",
       "      <td>0</td>\n",
       "      <td>1</td>\n",
       "      <td>1</td>\n",
       "      <td>1</td>\n",
       "    </tr>\n",
       "    <tr>\n",
       "      <td>1</td>\n",
       "      <td>2987008</td>\n",
       "      <td>0</td>\n",
       "      <td>86535</td>\n",
       "      <td>15.000</td>\n",
       "      <td>2803</td>\n",
       "      <td>100.0</td>\n",
       "      <td>150.0</td>\n",
       "      <td>226.0</td>\n",
       "      <td>337.000000</td>\n",
       "      <td>87.00000</td>\n",
       "      <td>...</td>\n",
       "      <td>1</td>\n",
       "      <td>1</td>\n",
       "      <td>0</td>\n",
       "      <td>1</td>\n",
       "      <td>0</td>\n",
       "      <td>1</td>\n",
       "      <td>0</td>\n",
       "      <td>0</td>\n",
       "      <td>1</td>\n",
       "      <td>1</td>\n",
       "    </tr>\n",
       "    <tr>\n",
       "      <td>2</td>\n",
       "      <td>2987010</td>\n",
       "      <td>0</td>\n",
       "      <td>86549</td>\n",
       "      <td>75.887</td>\n",
       "      <td>16496</td>\n",
       "      <td>352.0</td>\n",
       "      <td>117.0</td>\n",
       "      <td>134.0</td>\n",
       "      <td>290.733794</td>\n",
       "      <td>86.80063</td>\n",
       "      <td>...</td>\n",
       "      <td>0</td>\n",
       "      <td>0</td>\n",
       "      <td>0</td>\n",
       "      <td>0</td>\n",
       "      <td>1</td>\n",
       "      <td>0</td>\n",
       "      <td>0</td>\n",
       "      <td>1</td>\n",
       "      <td>1</td>\n",
       "      <td>0</td>\n",
       "    </tr>\n",
       "    <tr>\n",
       "      <td>3</td>\n",
       "      <td>2987011</td>\n",
       "      <td>0</td>\n",
       "      <td>86555</td>\n",
       "      <td>16.495</td>\n",
       "      <td>4461</td>\n",
       "      <td>375.0</td>\n",
       "      <td>185.0</td>\n",
       "      <td>224.0</td>\n",
       "      <td>290.733794</td>\n",
       "      <td>86.80063</td>\n",
       "      <td>...</td>\n",
       "      <td>1</td>\n",
       "      <td>1</td>\n",
       "      <td>0</td>\n",
       "      <td>0</td>\n",
       "      <td>1</td>\n",
       "      <td>0</td>\n",
       "      <td>0</td>\n",
       "      <td>1</td>\n",
       "      <td>1</td>\n",
       "      <td>0</td>\n",
       "    </tr>\n",
       "    <tr>\n",
       "      <td>4</td>\n",
       "      <td>2987016</td>\n",
       "      <td>0</td>\n",
       "      <td>86620</td>\n",
       "      <td>30.000</td>\n",
       "      <td>1790</td>\n",
       "      <td>555.0</td>\n",
       "      <td>150.0</td>\n",
       "      <td>226.0</td>\n",
       "      <td>170.000000</td>\n",
       "      <td>87.00000</td>\n",
       "      <td>...</td>\n",
       "      <td>0</td>\n",
       "      <td>0</td>\n",
       "      <td>0</td>\n",
       "      <td>0</td>\n",
       "      <td>1</td>\n",
       "      <td>1</td>\n",
       "      <td>0</td>\n",
       "      <td>1</td>\n",
       "      <td>1</td>\n",
       "      <td>0</td>\n",
       "    </tr>\n",
       "  </tbody>\n",
       "</table>\n",
       "<p>5 rows × 437 columns</p>\n",
       "</div>"
      ],
      "text/plain": [
       "   TransactionID  isFraud  TransactionDT  TransactionAmt  card1  card2  card3  \\\n",
       "0        2987004        0          86506          50.000   4497  514.0  150.0   \n",
       "1        2987008        0          86535          15.000   2803  100.0  150.0   \n",
       "2        2987010        0          86549          75.887  16496  352.0  117.0   \n",
       "3        2987011        0          86555          16.495   4461  375.0  185.0   \n",
       "4        2987016        0          86620          30.000   1790  555.0  150.0   \n",
       "\n",
       "   card5       addr1     addr2  ...  id_28_New  id_29_NotFound  \\\n",
       "0  102.0  420.000000  87.00000  ...          1               1   \n",
       "1  226.0  337.000000  87.00000  ...          1               1   \n",
       "2  134.0  290.733794  86.80063  ...          0               0   \n",
       "3  224.0  290.733794  86.80063  ...          1               1   \n",
       "4  226.0  170.000000  87.00000  ...          0               0   \n",
       "\n",
       "   id_34_match_status:0  id_34_match_status:1  id_34_match_status:2  id_35_T  \\\n",
       "0                     0                     0                     1        1   \n",
       "1                     0                     1                     0        1   \n",
       "2                     0                     0                     1        0   \n",
       "3                     0                     0                     1        0   \n",
       "4                     0                     0                     1        1   \n",
       "\n",
       "   id_36_T  id_37_T  id_38_T  DeviceType_mobile  \n",
       "0        0        1        1                  1  \n",
       "1        0        0        1                  1  \n",
       "2        0        1        1                  0  \n",
       "3        0        1        1                  0  \n",
       "4        0        1        1                  0  \n",
       "\n",
       "[5 rows x 437 columns]"
      ]
     },
     "execution_count": 29,
     "metadata": {},
     "output_type": "execute_result"
    }
   ],
   "source": [
    "train.head()"
   ]
  },
  {
   "cell_type": "code",
   "execution_count": 30,
   "metadata": {},
   "outputs": [],
   "source": [
    "# Drop unrelated features\n",
    "train.drop(['TransactionDT','TransactionAmt','TransactionID','day'],axis=1,inplace=True)"
   ]
  },
  {
   "cell_type": "code",
   "execution_count": 31,
   "metadata": {},
   "outputs": [],
   "source": [
    "X = train.drop('isFraud',axis=1)"
   ]
  },
  {
   "cell_type": "code",
   "execution_count": 32,
   "metadata": {},
   "outputs": [],
   "source": [
    "y=train['isFraud']"
   ]
  },
  {
   "cell_type": "code",
   "execution_count": 33,
   "metadata": {},
   "outputs": [],
   "source": [
    "#splitting into train and test set\n",
    "from sklearn.model_selection import train_test_split"
   ]
  },
  {
   "cell_type": "code",
   "execution_count": 34,
   "metadata": {},
   "outputs": [],
   "source": [
    "X_train, X_test, y_train, y_test = train_test_split(X, y, test_size=0.33, random_state=1)"
   ]
  },
  {
   "cell_type": "code",
   "execution_count": 35,
   "metadata": {},
   "outputs": [
    {
     "data": {
      "text/plain": [
       "{0: 89055, 1: 7581}"
      ]
     },
     "execution_count": 35,
     "metadata": {},
     "output_type": "execute_result"
    }
   ],
   "source": [
    "# counting class length in the independent variable\n",
    "unique,count = np.unique(y_train, return_counts=True)\n",
    "y_train_dict_value_count={k:v for (k,v) in zip(unique,count)}\n",
    "y_train_dict_value_count"
   ]
  },
  {
   "cell_type": "code",
   "execution_count": 36,
   "metadata": {},
   "outputs": [],
   "source": [
    "#import SMOTE\n",
    "from imblearn import under_sampling, over_sampling\n",
    "from imblearn.over_sampling import SMOTE"
   ]
  },
  {
   "cell_type": "code",
   "execution_count": 37,
   "metadata": {},
   "outputs": [],
   "source": [
    "#Perform over-sampling by SMOTE technique by create samples such that both classes are of same length\n",
    "sm=SMOTE(random_state=1,ratio=1.0)\n",
    "X_train_res,y_train_res = sm.fit_sample(X_train,y_train)"
   ]
  },
  {
   "cell_type": "code",
   "execution_count": 38,
   "metadata": {},
   "outputs": [
    {
     "data": {
      "text/plain": [
       "{0: 89055, 1: 89055}"
      ]
     },
     "execution_count": 38,
     "metadata": {},
     "output_type": "execute_result"
    }
   ],
   "source": [
    "#Check the length of each class\n",
    "unique,count = np.unique(y_train_res, return_counts=True)\n",
    "y_train_smote_value_count={k:v for (k,v) in zip(unique,count)}\n",
    "y_train_smote_value_count"
   ]
  },
  {
   "cell_type": "code",
   "execution_count": 39,
   "metadata": {},
   "outputs": [],
   "source": [
    "from sklearn import linear_model\n",
    "from sklearn.metrics import classification_report, confusion_matrix, accuracy_score"
   ]
  },
  {
   "cell_type": "code",
   "execution_count": 40,
   "metadata": {},
   "outputs": [],
   "source": [
    "#Fitting linear model\n",
    "model1 = linear_model.SGDClassifier(loss=\"log\",class_weight='balanced',alpha=0.1,penalty='l2')"
   ]
  },
  {
   "cell_type": "code",
   "execution_count": 41,
   "metadata": {},
   "outputs": [
    {
     "data": {
      "text/plain": [
       "SGDClassifier(alpha=0.1, class_weight='balanced', loss='log')"
      ]
     },
     "execution_count": 41,
     "metadata": {},
     "output_type": "execute_result"
    }
   ],
   "source": [
    "model1.fit(X_train_res,y_train_res)"
   ]
  },
  {
   "cell_type": "code",
   "execution_count": 42,
   "metadata": {},
   "outputs": [],
   "source": [
    "pred1 = model1.predict(X_test)"
   ]
  },
  {
   "cell_type": "code",
   "execution_count": 43,
   "metadata": {},
   "outputs": [
    {
     "data": {
      "text/plain": [
       "'              precision    recall  f1-score   support\\n\\n           0       0.98      0.41      0.58     43860\\n           1       0.11      0.88      0.20      3737\\n\\n    accuracy                           0.45     47597\\n   macro avg       0.54      0.65      0.39     47597\\nweighted avg       0.91      0.45      0.55     47597\\n'"
      ]
     },
     "execution_count": 43,
     "metadata": {},
     "output_type": "execute_result"
    }
   ],
   "source": [
    "classification_report(y_test,pred1)"
   ]
  },
  {
   "cell_type": "code",
   "execution_count": 44,
   "metadata": {},
   "outputs": [
    {
     "data": {
      "text/plain": [
       "array([[18188, 25672],\n",
       "       [  445,  3292]], dtype=int64)"
      ]
     },
     "execution_count": 44,
     "metadata": {},
     "output_type": "execute_result"
    }
   ],
   "source": [
    "confusion_matrix(y_test,pred1)"
   ]
  },
  {
   "cell_type": "code",
   "execution_count": 45,
   "metadata": {
    "scrolled": true
   },
   "outputs": [
    {
     "data": {
      "text/plain": [
       "0.45128894678236026"
      ]
     },
     "execution_count": 45,
     "metadata": {},
     "output_type": "execute_result"
    }
   ],
   "source": [
    "accuracy_score(y_test,pred1)"
   ]
  },
  {
   "cell_type": "code",
   "execution_count": 46,
   "metadata": {},
   "outputs": [],
   "source": [
    "from imblearn.pipeline import make_pipeline\n",
    "from sklearn.model_selection import cross_val_score\n",
    "from sklearn.model_selection import GridSearchCV"
   ]
  },
  {
   "cell_type": "code",
   "execution_count": 47,
   "metadata": {},
   "outputs": [
    {
     "name": "stdout",
     "output_type": "stream",
     "text": [
      "Best parameters : {'smote__ratio': 1.0}\n"
     ]
    }
   ],
   "source": [
    "# finding mest weight by using GridSearchCV\n",
    "pipe = make_pipeline(\n",
    "    SMOTE(),model1\n",
    ")\n",
    "\n",
    "weights = np.linspace(0.1, 1, 4)\n",
    "\n",
    "gsc = GridSearchCV(\n",
    "    estimator=pipe,\n",
    "    param_grid={\n",
    "        'smote__ratio': weights\n",
    "    },\n",
    "    scoring='f1',\n",
    "    cv=3\n",
    ")\n",
    "grid_result = gsc.fit(X_train, y_train)\n",
    "\n",
    "print(\"Best parameters : %s\" % grid_result.best_params_)"
   ]
  },
  {
   "cell_type": "code",
   "execution_count": 48,
   "metadata": {},
   "outputs": [],
   "source": [
    "#Decision Tree Classifier\n",
    "from sklearn.tree import DecisionTreeClassifier"
   ]
  },
  {
   "cell_type": "code",
   "execution_count": 49,
   "metadata": {},
   "outputs": [
    {
     "data": {
      "text/plain": [
       "array([[43043,   817],\n",
       "       [ 1323,  2414]], dtype=int64)"
      ]
     },
     "execution_count": 49,
     "metadata": {},
     "output_type": "execute_result"
    }
   ],
   "source": [
    "dTree = DecisionTreeClassifier(criterion=\"entropy\", max_depth =15)\n",
    "dTree.fit(X_train_res,y_train_res)\n",
    "predTree2 = dTree.predict(X_test)\n",
    "confusion_matrix(y_test,predTree2)"
   ]
  },
  {
   "cell_type": "code",
   "execution_count": 50,
   "metadata": {},
   "outputs": [
    {
     "data": {
      "text/plain": [
       "0.9550391831417947"
      ]
     },
     "execution_count": 50,
     "metadata": {},
     "output_type": "execute_result"
    }
   ],
   "source": [
    "accuracy_score(y_test,predTree2)"
   ]
  },
  {
   "cell_type": "code",
   "execution_count": 53,
   "metadata": {},
   "outputs": [],
   "source": [
    "from sklearn.metrics import roc_auc_score"
   ]
  },
  {
   "cell_type": "code",
   "execution_count": 54,
   "metadata": {
    "scrolled": true
   },
   "outputs": [
    {
     "data": {
      "text/plain": [
       "0.8136726271991268"
      ]
     },
     "execution_count": 54,
     "metadata": {},
     "output_type": "execute_result"
    }
   ],
   "source": [
    "roc_auc_score(y_test,predTree2)"
   ]
  },
  {
   "cell_type": "code",
   "execution_count": 55,
   "metadata": {},
   "outputs": [],
   "source": [
    "from sklearn.ensemble import RandomForestClassifier"
   ]
  },
  {
   "cell_type": "code",
   "execution_count": 59,
   "metadata": {},
   "outputs": [
    {
     "data": {
      "text/plain": [
       "array([[43583,   277],\n",
       "       [ 1337,  2400]], dtype=int64)"
      ]
     },
     "execution_count": 59,
     "metadata": {},
     "output_type": "execute_result"
    }
   ],
   "source": [
    "# Random Forest Classifier\n",
    "rfc = RandomForestClassifier()\n",
    "rfc.fit(X_train_res,y_train_res)\n",
    "predrfc = rfc.predict(X_test)\n",
    "confusion_matrix(y_test,predrfc)"
   ]
  },
  {
   "cell_type": "code",
   "execution_count": 60,
   "metadata": {},
   "outputs": [
    {
     "data": {
      "text/plain": [
       "0.9660902998088114"
      ]
     },
     "execution_count": 60,
     "metadata": {},
     "output_type": "execute_result"
    }
   ],
   "source": [
    "accuracy_score(y_test,predrfc)"
   ]
  },
  {
   "cell_type": "code",
   "execution_count": 64,
   "metadata": {},
   "outputs": [],
   "source": [
    "# Light GBM Classifier\n",
    "from lightgbm import LGBMClassifier"
   ]
  },
  {
   "cell_type": "code",
   "execution_count": 65,
   "metadata": {},
   "outputs": [
    {
     "data": {
      "text/plain": [
       "array([[43765,    95],\n",
       "       [  843,  2894]], dtype=int64)"
      ]
     },
     "execution_count": 65,
     "metadata": {},
     "output_type": "execute_result"
    }
   ],
   "source": [
    "lgbm = LGBMClassifier(boosting_type='gbdt',\n",
    "    num_leaves=2**8,\n",
    "    max_depth=-1,\n",
    "    learning_rate=0.05,\n",
    "    n_estimators=1000,\n",
    "    subsample_for_bin=200000,\n",
    "    objective='binary',\n",
    "    class_weight=None,\n",
    "    min_split_gain=0.0,\n",
    "    min_child_weight=0.001,\n",
    "    min_child_samples=20,\n",
    "    subsample=1.0,\n",
    "    subsample_freq=1,\n",
    "    colsample_bytree=0.7,\n",
    "    reg_alpha=0.0,\n",
    "    reg_lambda=0.0,\n",
    "    random_state=None,\n",
    "    n_jobs=-1,\n",
    "    silent=True,\n",
    "    importance_type='split')\n",
    "lgbm.fit(X_train_res,y_train_res)\n",
    "predlgbm = lgbm.predict(X_test)\n",
    "confusion_matrix(y_test,predlgbm)"
   ]
  },
  {
   "cell_type": "code",
   "execution_count": 66,
   "metadata": {},
   "outputs": [
    {
     "data": {
      "text/plain": [
       "0.9802928756014034"
      ]
     },
     "execution_count": 66,
     "metadata": {},
     "output_type": "execute_result"
    }
   ],
   "source": [
    "accuracy_score(y_test,predlgbm)"
   ]
  },
  {
   "cell_type": "code",
   "execution_count": 67,
   "metadata": {},
   "outputs": [
    {
     "data": {
      "text/plain": [
       "0.8861259998333179"
      ]
     },
     "execution_count": 67,
     "metadata": {},
     "output_type": "execute_result"
    }
   ],
   "source": [
    "roc_auc_score(y_test,predlgbm)"
   ]
  }
 ],
 "metadata": {
  "kernelspec": {
   "display_name": "Python 3",
   "language": "python",
   "name": "python3"
  },
  "language_info": {
   "codemirror_mode": {
    "name": "ipython",
    "version": 3
   },
   "file_extension": ".py",
   "mimetype": "text/x-python",
   "name": "python",
   "nbconvert_exporter": "python",
   "pygments_lexer": "ipython3",
   "version": "3.7.4"
  }
 },
 "nbformat": 4,
 "nbformat_minor": 2
}
